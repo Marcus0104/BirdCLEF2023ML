{
 "cells": [
  {
   "cell_type": "code",
   "execution_count": 1,
   "id": "39484ace",
   "metadata": {
    "execution": {
     "iopub.execute_input": "2023-03-15T17:09:55.005630Z",
     "iopub.status.busy": "2023-03-15T17:09:55.004667Z",
     "iopub.status.idle": "2023-03-15T17:09:55.015660Z",
     "shell.execute_reply": "2023-03-15T17:09:55.014383Z"
    },
    "papermill": {
     "duration": 0.018865,
     "end_time": "2023-03-15T17:09:55.018661",
     "exception": false,
     "start_time": "2023-03-15T17:09:54.999796",
     "status": "completed"
    },
    "tags": []
   },
   "outputs": [],
   "source": [
    "import numpy as np # linear algebra\n",
    "import pandas as pd # data processing, CSV file I/O (e.g. pd.read_csv)"
   ]
  },
  {
   "cell_type": "code",
   "execution_count": 2,
   "id": "fdc10c4f",
   "metadata": {
    "execution": {
     "iopub.execute_input": "2023-03-15T17:09:55.025382Z",
     "iopub.status.busy": "2023-03-15T17:09:55.024422Z",
     "iopub.status.idle": "2023-03-15T17:09:55.114872Z",
     "shell.execute_reply": "2023-03-15T17:09:55.113884Z"
    },
    "papermill": {
     "duration": 0.096638,
     "end_time": "2023-03-15T17:09:55.117626",
     "exception": false,
     "start_time": "2023-03-15T17:09:55.020988",
     "status": "completed"
    },
    "tags": []
   },
   "outputs": [],
   "source": [
    "birdclef = pd.read_csv(\"/kaggle/input/birdclef-2023/eBird_Taxonomy_v2021.csv\")"
   ]
  },
  {
   "cell_type": "code",
   "execution_count": 3,
   "id": "0c74e93f",
   "metadata": {
    "execution": {
     "iopub.execute_input": "2023-03-15T17:09:55.124267Z",
     "iopub.status.busy": "2023-03-15T17:09:55.123481Z",
     "iopub.status.idle": "2023-03-15T17:09:55.159570Z",
     "shell.execute_reply": "2023-03-15T17:09:55.158264Z"
    },
    "papermill": {
     "duration": 0.042587,
     "end_time": "2023-03-15T17:09:55.162421",
     "exception": false,
     "start_time": "2023-03-15T17:09:55.119834",
     "status": "completed"
    },
    "tags": []
   },
   "outputs": [
    {
     "data": {
      "text/html": [
       "<div>\n",
       "<style scoped>\n",
       "    .dataframe tbody tr th:only-of-type {\n",
       "        vertical-align: middle;\n",
       "    }\n",
       "\n",
       "    .dataframe tbody tr th {\n",
       "        vertical-align: top;\n",
       "    }\n",
       "\n",
       "    .dataframe thead th {\n",
       "        text-align: right;\n",
       "    }\n",
       "</style>\n",
       "<table border=\"1\" class=\"dataframe\">\n",
       "  <thead>\n",
       "    <tr style=\"text-align: right;\">\n",
       "      <th></th>\n",
       "      <th>TAXON_ORDER</th>\n",
       "      <th>CATEGORY</th>\n",
       "      <th>SPECIES_CODE</th>\n",
       "      <th>PRIMARY_COM_NAME</th>\n",
       "      <th>SCI_NAME</th>\n",
       "      <th>ORDER1</th>\n",
       "      <th>FAMILY</th>\n",
       "      <th>SPECIES_GROUP</th>\n",
       "      <th>REPORT_AS</th>\n",
       "    </tr>\n",
       "  </thead>\n",
       "  <tbody>\n",
       "    <tr>\n",
       "      <th>0</th>\n",
       "      <td>1</td>\n",
       "      <td>species</td>\n",
       "      <td>ostric2</td>\n",
       "      <td>Common Ostrich</td>\n",
       "      <td>Struthio camelus</td>\n",
       "      <td>Struthioniformes</td>\n",
       "      <td>Struthionidae (Ostriches)</td>\n",
       "      <td>Ostriches</td>\n",
       "      <td>NaN</td>\n",
       "    </tr>\n",
       "    <tr>\n",
       "      <th>1</th>\n",
       "      <td>6</td>\n",
       "      <td>species</td>\n",
       "      <td>ostric3</td>\n",
       "      <td>Somali Ostrich</td>\n",
       "      <td>Struthio molybdophanes</td>\n",
       "      <td>Struthioniformes</td>\n",
       "      <td>Struthionidae (Ostriches)</td>\n",
       "      <td>NaN</td>\n",
       "      <td>NaN</td>\n",
       "    </tr>\n",
       "    <tr>\n",
       "      <th>2</th>\n",
       "      <td>7</td>\n",
       "      <td>slash</td>\n",
       "      <td>y00934</td>\n",
       "      <td>Common/Somali Ostrich</td>\n",
       "      <td>Struthio camelus/molybdophanes</td>\n",
       "      <td>Struthioniformes</td>\n",
       "      <td>Struthionidae (Ostriches)</td>\n",
       "      <td>NaN</td>\n",
       "      <td>NaN</td>\n",
       "    </tr>\n",
       "    <tr>\n",
       "      <th>3</th>\n",
       "      <td>8</td>\n",
       "      <td>species</td>\n",
       "      <td>grerhe1</td>\n",
       "      <td>Greater Rhea</td>\n",
       "      <td>Rhea americana</td>\n",
       "      <td>Rheiformes</td>\n",
       "      <td>Rheidae (Rheas)</td>\n",
       "      <td>Rheas</td>\n",
       "      <td>NaN</td>\n",
       "    </tr>\n",
       "    <tr>\n",
       "      <th>4</th>\n",
       "      <td>14</td>\n",
       "      <td>species</td>\n",
       "      <td>lesrhe2</td>\n",
       "      <td>Lesser Rhea</td>\n",
       "      <td>Rhea pennata</td>\n",
       "      <td>Rheiformes</td>\n",
       "      <td>Rheidae (Rheas)</td>\n",
       "      <td>NaN</td>\n",
       "      <td>NaN</td>\n",
       "    </tr>\n",
       "  </tbody>\n",
       "</table>\n",
       "</div>"
      ],
      "text/plain": [
       "   TAXON_ORDER CATEGORY SPECIES_CODE       PRIMARY_COM_NAME  \\\n",
       "0            1  species      ostric2         Common Ostrich   \n",
       "1            6  species      ostric3         Somali Ostrich   \n",
       "2            7    slash       y00934  Common/Somali Ostrich   \n",
       "3            8  species      grerhe1           Greater Rhea   \n",
       "4           14  species      lesrhe2            Lesser Rhea   \n",
       "\n",
       "                         SCI_NAME            ORDER1  \\\n",
       "0                Struthio camelus  Struthioniformes   \n",
       "1          Struthio molybdophanes  Struthioniformes   \n",
       "2  Struthio camelus/molybdophanes  Struthioniformes   \n",
       "3                  Rhea americana        Rheiformes   \n",
       "4                    Rhea pennata        Rheiformes   \n",
       "\n",
       "                      FAMILY SPECIES_GROUP REPORT_AS  \n",
       "0  Struthionidae (Ostriches)     Ostriches       NaN  \n",
       "1  Struthionidae (Ostriches)           NaN       NaN  \n",
       "2  Struthionidae (Ostriches)           NaN       NaN  \n",
       "3            Rheidae (Rheas)         Rheas       NaN  \n",
       "4            Rheidae (Rheas)           NaN       NaN  "
      ]
     },
     "execution_count": 3,
     "metadata": {},
     "output_type": "execute_result"
    }
   ],
   "source": [
    "birdclef.head()"
   ]
  },
  {
   "cell_type": "code",
   "execution_count": null,
   "id": "97eb8b5f",
   "metadata": {
    "papermill": {
     "duration": 0.001968,
     "end_time": "2023-03-15T17:09:55.166799",
     "exception": false,
     "start_time": "2023-03-15T17:09:55.164831",
     "status": "completed"
    },
    "tags": []
   },
   "outputs": [],
   "source": []
  }
 ],
 "metadata": {
  "kernelspec": {
   "display_name": "Python 3",
   "language": "python",
   "name": "python3"
  },
  "language_info": {
   "codemirror_mode": {
    "name": "ipython",
    "version": 3
   },
   "file_extension": ".py",
   "mimetype": "text/x-python",
   "name": "python",
   "nbconvert_exporter": "python",
   "pygments_lexer": "ipython3",
   "version": "3.7.12"
  },
  "papermill": {
   "default_parameters": {},
   "duration": 13.477079,
   "end_time": "2023-03-15T17:09:55.892379",
   "environment_variables": {},
   "exception": null,
   "input_path": "__notebook__.ipynb",
   "output_path": "__notebook__.ipynb",
   "parameters": {},
   "start_time": "2023-03-15T17:09:42.415300",
   "version": "2.4.0"
  }
 },
 "nbformat": 4,
 "nbformat_minor": 5
}
